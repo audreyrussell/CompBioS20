{
 "cells": [
  {
   "cell_type": "markdown",
   "metadata": {},
   "source": [
    "# numpy and matplotlib\n",
    "\n",
    "First of all, to use libraries, we need to import them. and it is usually done at the beginning of your script"
   ]
  },
  {
   "cell_type": "code",
   "execution_count": 52,
   "metadata": {},
   "outputs": [],
   "source": [
    "import numpy as np\n",
    "import matplotlib.pyplot as plt"
   ]
  },
  {
   "cell_type": "code",
   "execution_count": 53,
   "metadata": {},
   "outputs": [
    {
     "data": {
      "text/plain": [
       "3.0"
      ]
     },
     "execution_count": 53,
     "metadata": {},
     "output_type": "execute_result"
    }
   ],
   "source": [
    "np.sqrt(9)"
   ]
  },
  {
   "cell_type": "markdown",
   "metadata": {},
   "source": [
    "Before we start, just as a vaccination of sorts, the difference between numpy and lists. "
   ]
  },
  {
   "cell_type": "code",
   "execution_count": 54,
   "metadata": {},
   "outputs": [
    {
     "name": "stdout",
     "output_type": "stream",
     "text": [
      "[1, 2, 3]\n",
      "2\n",
      "[1, 2, 3, 1, 2, 3]\n",
      "[1, 2, 3, 1, 2, 3, 1, 2, 3]\n"
     ]
    }
   ],
   "source": [
    "#let's create a list and add to it\n",
    "a = [1,2,3]\n",
    "print(a)\n",
    "\n",
    "#we can access elements of a list\n",
    "print(a[1])\n",
    "\n",
    "#can you add a number to a list?\n",
    "#print(a+1) #no, you cannot, returns an error\n",
    "#can you add two lists together?\n",
    "print(a+a) # yes! it concatenates the lists\n",
    "#a consequence of that–you can kind of multiply lists but it actually just repeats them\n",
    "print(a*3)"
   ]
  },
  {
   "cell_type": "code",
   "execution_count": 55,
   "metadata": {},
   "outputs": [
    {
     "name": "stdout",
     "output_type": "stream",
     "text": [
      "[1 2 3]\n",
      "2\n",
      "[11 12 13]\n",
      "[ 5 10 15]\n",
      "[2 4 6]\n"
     ]
    }
   ],
   "source": [
    "#for math we'll be using numpy arrays\n",
    "\n",
    "b = np.array([1,2,3])\n",
    "print(b)\n",
    "\n",
    "#can we access an element of it?\n",
    "print(b[1]) #yep, it worked the same as for a list!\n",
    "\n",
    "#can we add a number to it?\n",
    "print(b+10)\n",
    "\n",
    "#can we multiply by a number? \n",
    "print(b*5) #yes and it actuallly multiplies every element!\n",
    "\n",
    "#can we add two arrays together?\n",
    "print(b+b) #yes, and moreover it does this element by element!\n",
    "\n",
    "#what if the vectors are of different size?\n",
    "#print(b + np.array([1,2])) # this wouldn't work, as in good faith you cannot interpret it"
   ]
  },
  {
   "cell_type": "code",
   "execution_count": 56,
   "metadata": {},
   "outputs": [
    {
     "data": {
      "text/plain": [
       "array(['d', '1'], dtype='<U1')"
      ]
     },
     "execution_count": 56,
     "metadata": {},
     "output_type": "execute_result"
    }
   ],
   "source": [
    "np.array(['d',1]) #apparently you can also put strings into a numpy array but let's park it"
   ]
  },
  {
   "cell_type": "code",
   "execution_count": 57,
   "metadata": {},
   "outputs": [
    {
     "name": "stdout",
     "output_type": "stream",
     "text": [
      "[1 4 9]\n",
      "[1.         1.41421356 1.73205081]\n"
     ]
    }
   ],
   "source": [
    "#most well-written functions can be called on a vector like that (array), and they just apply themselves to every element\n",
    "print(b**2)\n",
    "print(np.sqrt(b))"
   ]
  },
  {
   "cell_type": "code",
   "execution_count": 58,
   "metadata": {},
   "outputs": [
    {
     "name": "stdout",
     "output_type": "stream",
     "text": [
      "[0.  0.2 0.4 0.6 0.8 1.  1.2 1.4 1.6 1.8 2.  2.2 2.4 2.6 2.8 3.  3.2 3.4\n",
      " 3.6 3.8 4.  4.2 4.4 4.6 4.8 5.  5.2 5.4 5.6 5.8 6.  6.2 6.4 6.6 6.8 7.\n",
      " 7.2 7.4 7.6 7.8 8.  8.2 8.4 8.6 8.8 9.  9.2 9.4 9.6 9.8]\n"
     ]
    },
    {
     "data": {
      "image/png": "[encoded data removed]",
      "text/plain": [
       "<Figure size 360x360 with 1 Axes>"
      ]
     },
     "metadata": {
      "needs_background": "light"
     },
     "output_type": "display_data"
    }
   ],
   "source": [
    "x = np.arange(start = 0, stop = 10, step = 0.2) #this creates 10 numbers from 0 to 9\n",
    "print(x)\n",
    "plt.figure(figsize=(5,5))   #it creates a figure. (5,5) here is a tuple, a new data type. let's talk about it later\n",
    "plt.plot(x, np.sin(x)*(x/5)); #semicolon suppresses the output for this object thing. just to make it look neater\n",
    "plt.xlabel(\"something\"); \n",
    "plt.ylabel(\"something else!\");\n",
    "plt.plot(x,np.sqrt(x), \"yv\");"
   ]
  },
  {
   "cell_type": "markdown",
   "metadata": {},
   "source": [
    "## birthday exercise"
   ]
  },
  {
   "cell_type": "code",
   "execution_count": 59,
   "metadata": {},
   "outputs": [
    {
     "data": {
      "text/plain": [
       "array([0., 0., 0., 0., 0., 0., 0., 0., 0., 0., 0., 0., 0., 0., 0., 0., 0.,\n",
       "       0., 0., 0., 0., 0., 0., 0., 0., 0., 0., 0., 0., 0., 0., 0., 0., 0.,\n",
       "       0., 0., 0., 0., 0., 0., 0., 0., 0., 0., 0., 0., 0., 0., 0., 0., 0.,\n",
       "       0., 0., 0., 0., 0., 0., 0., 0., 0., 0., 0., 0., 0., 0., 0., 0., 0.,\n",
       "       0., 0., 0., 0., 0., 0., 0., 0., 0., 0., 0., 0., 0., 0., 0., 0., 0.,\n",
       "       0., 0., 0., 0., 0., 0., 0., 0., 0., 0., 0., 0., 0., 0., 0.])"
      ]
     },
     "execution_count": 59,
     "metadata": {},
     "output_type": "execute_result"
    }
   ],
   "source": [
    "p = np.zeros(100)\n",
    "p"
   ]
  },
  {
   "cell_type": "code",
   "execution_count": 63,
   "metadata": {},
   "outputs": [
    {
     "name": "stdout",
     "output_type": "stream",
     "text": [
      "0.9972602739726028\n",
      "0.9917958341152187\n",
      "0.986346406455245\n",
      "0.9809119909926817\n",
      "0.9754925877275286\n",
      "0.970088196659786\n",
      "0.9646988177894539\n",
      "0.9593244511165321\n",
      "0.9539650966410208\n",
      "0.9486207543629198\n",
      "0.9432914242822293\n",
      "0.9379771063989492\n",
      "0.9326778007130795\n",
      "0.9273935072246201\n",
      "0.9221242259335711\n",
      "0.9168699568399324\n",
      "0.9116306999437042\n",
      "0.9064064552448864\n",
      "0.901197222743479\n",
      "0.896003002439482\n",
      "0.8908237943328955\n",
      "0.8856595984237193\n",
      "0.8805104147119536\n",
      "0.8753762431975981\n",
      "0.870257083880653\n",
      "0.8651529367611184\n",
      "0.8600638018389941\n",
      "0.8549896791142803\n",
      "0.8499305685869769\n",
      "0.8448864702570839\n",
      "0.8398573841246012\n",
      "0.8348433101895291\n",
      "0.8298442484518672\n",
      "0.8248601989116157\n",
      "0.8198911615687746\n",
      "0.814937136423344\n",
      "0.8099981234753236\n",
      "0.8050741227247138\n",
      "0.8001651341715144\n",
      "0.7952711578157253\n",
      "0.7903921936573466\n",
      "0.7855282416963784\n",
      "0.7806793019328204\n",
      "0.775845374366673\n",
      "0.7710264589979359\n",
      "0.766222555826609\n",
      "0.7614336648526927\n",
      "0.7566597860761869\n",
      "0.7519009194970914\n",
      "0.7471570651154062\n",
      "0.7424282229311315\n",
      "0.7377143929442672\n",
      "0.7330155751548133\n",
      "0.7283317695627697\n",
      "0.7236629761681366\n",
      "0.7190091949709139\n",
      "0.7143704259711015\n",
      "0.7097466691686996\n",
      "0.705137924563708\n",
      "0.7005441921561268\n",
      "0.6959654719459561\n",
      "0.6914017639331957\n",
      "0.6868530681178457\n",
      "0.6823193844999061\n",
      "0.677800713079377\n",
      "0.6732970538562582\n",
      "0.6688084068305498\n",
      "0.6643347720022518\n",
      "0.6598761493713642\n",
      "0.655432538937887\n",
      "0.6510039407018202\n",
      "0.6465903546631638\n",
      "0.6421917808219179\n",
      "0.6378082191780822\n",
      "0.633439669731657\n",
      "0.6290861324826422\n",
      "0.6247476074310376\n",
      "0.6204240945768437\n",
      "0.61611559392006\n",
      "0.6118221054606868\n",
      "0.607543629198724\n",
      "0.6032801651341716\n",
      "0.5990317132670294\n",
      "0.5947982735972978\n",
      "0.5905798461249766\n",
      "0.5863764308500656\n",
      "0.5821880277725652\n",
      "0.5780146368924751\n",
      "0.5738562582097955\n",
      "0.5697128917245262\n",
      "0.5655845374366674\n",
      "0.5614711953462188\n",
      "0.5573728654531807\n",
      "0.553289547757553\n",
      "0.5492212422593358\n",
      "0.5451679489585288\n",
      "0.5411296678551323\n",
      "0.5371063989491461\n",
      "0.5330981422405705\n",
      "0.5291048977294052\n",
      "0.5251266654156502\n",
      "0.5211634452993057\n",
      "0.5172152373803716\n",
      "0.5132820416588478\n",
      "0.5093638581347345\n",
      "0.5054606868080316\n",
      "0.501572527678739\n",
      "0.4976993807468568\n",
      "0.49384124601238505\n",
      "0.48999812347532373\n",
      "0.48617001313567276\n",
      "0.48235691499343214\n",
      "0.478558829048602\n",
      "0.4747757553011822\n",
      "0.47100769375117285\n",
      "0.4672546443985739\n",
      "0.4635166072433852\n",
      "0.459793582285607\n",
      "0.45608556952523926\n",
      "0.45239256896228186\n",
      "0.4487145805967348\n",
      "0.4450516044285982\n",
      "0.441403640457872\n",
      "0.4377706886845562\n",
      "0.4341527491086508\n",
      "0.4305498217301557\n",
      "0.42696190654907107\n",
      "0.4233890035653969\n",
      "0.41983111277913304\n",
      "0.4162882341902796\n",
      "0.41276036779883657\n",
      "0.4092475136048039\n",
      "0.40574967160818165\n",
      "0.40226684180896977\n",
      "0.39879902420716834\n",
      "0.3953462188027773\n",
      "0.3919084255957966\n",
      "0.3884856445862263\n",
      "0.38507787577406644\n",
      "0.38168511915931697\n",
      "0.37830737474197784\n",
      "0.3749446425220491\n",
      "0.37159692249953086\n",
      "0.368264214674423\n",
      "0.3649465190467255\n",
      "0.3616438356164383\n",
      "0.3583561643835616\n",
      "0.3550835053480953\n",
      "0.3518258585100394\n",
      "0.3485832238693939\n",
      "0.3453556014261588\n",
      "0.342142991180334\n",
      "0.3389453931319197\n",
      "0.33576280728091573\n",
      "0.33259523362732224\n",
      "0.3294426721711391\n",
      "0.3263051229123663\n",
      "0.32318258585100396\n",
      "0.32007506098705196\n",
      "0.3169825483205104\n",
      "0.31390504785137924\n",
      "0.31084255957965845\n",
      "0.30779508350534807\n",
      "0.30476261962844814\n",
      "0.30174516794895856\n",
      "0.2987427284668793\n",
      "0.29575530118221055\n",
      "0.2927828860949521\n",
      "0.28982548320510415\n",
      "0.2868830925126666\n",
      "0.28395571401763936\n",
      "0.2810433477200225\n",
      "0.2781459936198161\n",
      "0.2752636517170201\n",
      "0.2723963220116345\n",
      "0.26954400450365923\n",
      "0.26670669919309437\n",
      "0.26388440607993996\n",
      "0.2610771251641959\n",
      "0.2582848564458623\n",
      "0.255507599924939\n",
      "0.25274535560142614\n",
      "0.2499981234753237\n",
      "0.24726590354663158\n",
      "0.24454869581534994\n",
      "0.2418465002814787\n",
      "0.23915931694501782\n",
      "0.23648714580596736\n",
      "0.23382998686432727\n",
      "0.2311878401200976\n",
      "0.22856070557327832\n",
      "0.22594858322386943\n",
      "0.2233514730718709\n",
      "0.22076937511728276\n",
      "0.21820228936010505\n",
      "0.21565021580033775\n",
      "0.21311315443798085\n",
      "0.21059110527303435\n",
      "0.20808406830549822\n",
      "0.20559204353537253\n",
      "0.20311503096265718\n",
      "0.20065303058735226\n",
      "0.1982060424094577\n",
      "0.1957740664289735\n",
      "0.19335710264589978\n",
      "0.19095515106023642\n",
      "0.18856821167198348\n",
      "0.18619628448114092\n",
      "0.18383936948770876\n",
      "0.181497466691687\n",
      "0.17917057609307566\n",
      "0.17685869769187468\n",
      "0.17456183148808407\n",
      "0.17227997748170384\n",
      "0.17001313567273407\n",
      "0.1677613060611747\n",
      "0.1655244886470257\n",
      "0.16330268343028712\n",
      "0.16109589041095893\n",
      "0.1589041095890411\n",
      "0.15672734096453372\n",
      "0.15456558453743666\n",
      "0.15241884030775002\n",
      "0.15028710827547379\n",
      "0.14817038844060798\n",
      "0.14606868080315255\n",
      "0.14398198536310752\n",
      "0.1419103021204729\n",
      "0.13985363107524865\n",
      "0.13781197222743483\n",
      "0.13578532557703138\n",
      "0.13377369112403828\n",
      "0.13177706886845558\n",
      "0.12979545881028332\n",
      "0.12782886094952148\n",
      "0.12587727528617002\n",
      "0.12394070182022894\n",
      "0.12201914055169825\n",
      "0.12011259148057798\n",
      "0.1182210546068681\n",
      "0.11634452993056861\n",
      "0.11448301745167949\n",
      "0.11263651717020076\n",
      "0.11080502908613246\n",
      "0.10898855319947456\n",
      "0.10718708951022705\n",
      "0.10540063801838995\n",
      "0.10362919872396323\n",
      "0.10187277162694691\n",
      "0.10013135672734098\n",
      "0.09840495402514546\n",
      "0.09669356352036029\n",
      "0.09499718521298553\n",
      "0.09331581910302118\n",
      "0.09164946519046724\n",
      "0.0899981234753237\n",
      "0.08836179395759054\n",
      "0.08674047663726779\n",
      "0.08513417151435543\n",
      "0.08354287858885347\n",
      "0.0819665978607619\n",
      "0.0804053293300807\n",
      "0.07885907299680989\n",
      "0.07732782886094951\n",
      "0.07581159692249952\n",
      "0.07431037718145993\n",
      "0.07282416963783074\n",
      "0.07135297429161194\n",
      "0.06989679114280355\n",
      "0.06845562019140554\n",
      "0.06702946143741792\n",
      "0.06561831488084069\n",
      "0.06422218052167383\n",
      "0.06284105835991742\n",
      "0.06147494839557139\n",
      "0.06012385062863576\n",
      "0.05878776505911053\n",
      "0.05746669168699569\n",
      "0.05616063051229125\n",
      "0.0548695815349972\n",
      "0.053593544755113555\n",
      "0.05233252017264027\n",
      "0.05108650778757739\n",
      "0.04985550759992493\n",
      "0.04863951960968286\n",
      "0.04743854381685119\n",
      "0.04625258022142991\n",
      "0.04508162882341903\n",
      "0.04392568962281855\n",
      "0.042784762619628464\n",
      "0.04165884781384877\n",
      "0.040547945205479455\n",
      "0.03945205479452053\n",
      "0.03837117658097203\n",
      "0.037305310564833924\n",
      "0.03625445674610621\n",
      "0.035218615124788896\n",
      "0.03419778570088197\n",
      "0.03319196847438545\n",
      "0.03220116344529932\n",
      "0.031225370613623567\n"
     ]
    }
   ],
   "source": [
    "n = 303\n",
    "p = np.zeros(n) #probability of NOT having a matching birthday\n",
    "p[0] = 1\n",
    "p[1] = 1 #for 1 person, prob of not having a matching birthday is 1 hehe\n",
    "for i in range(2,n): #this loop will run from 2 to n-1 (the highest number will be n-1)\n",
    "    #calculate the probability that this new person doesn't have a matching bd\n",
    "    #using this new value we just calculated, and a value p[i-1], calculate p[i]\n",
    "    # p[i] = something something p*[i-1]\n",
    "    print((1-((i-1)/365)) * ((1-(i-2)/365)))"
   ]
  },
  {
   "cell_type": "code",
   "execution_count": 30,
   "metadata": {
    "scrolled": true
   },
   "outputs": [
    {
     "name": "stdout",
     "output_type": "stream",
     "text": [
      "1.0027397260273974\n"
     ]
    },
    {
     "ename": "TypeError",
     "evalue": "unsupported operand type(s) for *: 'NoneType' and 'float'",
     "output_type": "error",
     "traceback": [
      "\u001b[0;31m---------------------------------------------------------------------------\u001b[0m",
      "\u001b[0;31mTypeError\u001b[0m                                 Traceback (most recent call last)",
      "\u001b[0;32m<ipython-input-30-e878fc01e4f8>\u001b[0m in \u001b[0;36m<module>\u001b[0;34m\u001b[0m\n\u001b[1;32m      1\u001b[0m \u001b[0;32mfor\u001b[0m \u001b[0mi\u001b[0m \u001b[0;32min\u001b[0m \u001b[0mrange\u001b[0m\u001b[0;34m(\u001b[0m\u001b[0;36m2\u001b[0m\u001b[0;34m,\u001b[0m\u001b[0mn\u001b[0m\u001b[0;34m)\u001b[0m\u001b[0;34m:\u001b[0m\u001b[0;34m\u001b[0m\u001b[0;34m\u001b[0m\u001b[0m\n\u001b[0;32m----> 2\u001b[0;31m     \u001b[0mprint\u001b[0m\u001b[0;34m(\u001b[0m\u001b[0;36m1\u001b[0m \u001b[0;34m-\u001b[0m \u001b[0;34m(\u001b[0m\u001b[0mp\u001b[0m\u001b[0;34m[\u001b[0m\u001b[0mi\u001b[0m\u001b[0;34m]\u001b[0m\u001b[0;34m-\u001b[0m\u001b[0;36m1\u001b[0m\u001b[0;34m)\u001b[0m \u001b[0;34m/\u001b[0m \u001b[0;36m365\u001b[0m\u001b[0;34m)\u001b[0m \u001b[0;34m*\u001b[0m \u001b[0;34m(\u001b[0m\u001b[0;36m1\u001b[0m\u001b[0;34m-\u001b[0m\u001b[0;34m(\u001b[0m\u001b[0mp\u001b[0m\u001b[0;34m[\u001b[0m\u001b[0mi\u001b[0m\u001b[0;34m]\u001b[0m\u001b[0;34m-\u001b[0m\u001b[0;36m1\u001b[0m\u001b[0;34m)\u001b[0m\u001b[0;34m/\u001b[0m\u001b[0;36m365\u001b[0m\u001b[0;34m)\u001b[0m\u001b[0;34m\u001b[0m\u001b[0;34m\u001b[0m\u001b[0m\n\u001b[0m",
      "\u001b[0;31mTypeError\u001b[0m: unsupported operand type(s) for *: 'NoneType' and 'float'"
     ]
    }
   ],
   "source": [
    "plt.figure(figsize=5.5)\n",
    "plt.plot(x, for i in range(2,n): #this loop will run from 2 to n-1 (the highest number will be n-1)\n",
    "    #calculate the probability that this new person doesn't have a matching bd\n",
    "    #using this new value we just calculated, and a value p[i-1], calculate p[i]\n",
    "    # p[i] = something something p*[i-1]\n",
    "    print((1-((i-1)/365)) * (1-(i-2)/365)\n",
    "         ) \n",
    "        )"
   ]
  },
  {
   "cell_type": "code",
   "execution_count": null,
   "metadata": {},
   "outputs": [],
   "source": []
  }
 ],
 "metadata": {
  "kernelspec": {
   "display_name": "Python 3",
   "language": "python",
   "name": "python3"
  },
  "language_info": {
   "codemirror_mode": {
    "name": "ipython",
    "version": 3
   },
   "file_extension": ".py",
   "mimetype": "text/x-python",
   "name": "python",
   "nbconvert_exporter": "python",
   "pygments_lexer": "ipython3",
   "version": "3.7.3"
  }
 },
 "nbformat": 4,
 "nbformat_minor": 2
}
