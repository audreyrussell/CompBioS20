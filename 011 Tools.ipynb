{
 "cells": [
  {
   "cell_type": "markdown",
   "metadata": {},
   "source": [
    "# class 2"
   ]
  },
  {
   "cell_type": "code",
   "execution_count": null,
   "metadata": {},
   "outputs": [],
   "source": [
    "#press h in blue mode to show ALL functions"
   ]
  },
  {
   "cell_type": "code",
   "execution_count": 2,
   "metadata": {
    "scrolled": true
   },
   "outputs": [
    {
     "name": "stdout",
     "output_type": "stream",
     "text": [
      "Here is a number: 2\n",
      "I have a lovely dog named Spot\n",
      "I have a lovely dog named Fido\n",
      "I have a lovely dog named Reks\n"
     ]
    }
   ],
   "source": [
    "# functions!\n",
    "\n",
    "#functions that just do things but don't talk back\n",
    "#built-in function\n",
    "print(\"Here is a number:\", 2)\n",
    "\n",
    "#sad life of a person who wrote the same code many times\n",
    "\n",
    "print(\"I have a lovely dog named Spot\")\n",
    "print(\"I have a lovely dog named Fido\")\n",
    "print(\"I have a lovely dog named Reks\")\n",
    "\n",
    "#poor person had to write the same thing again and again!"
   ]
  },
  {
   "cell_type": "code",
   "execution_count": 8,
   "metadata": {},
   "outputs": [
    {
     "name": "stdout",
     "output_type": "stream",
     "text": [
      "I have a lovely dog named Teddy\n",
      "I have a lovely dog named Dog\n"
     ]
    }
   ],
   "source": [
    "def express_love_old(name=\"Dog\"):\n",
    "    print(\"I have a lovely dog named\", name)\n",
    "    \n",
    "express_love(\"Teddy\")\n",
    "express_love() #default value is called here"
   ]
  },
  {
   "cell_type": "code",
   "execution_count": 10,
   "metadata": {},
   "outputs": [
    {
     "name": "stdout",
     "output_type": "stream",
     "text": [
      "I have a lovely dog named Teddy\n",
      "Glory to all living things!\n"
     ]
    }
   ],
   "source": [
    "def express_love(name=None): #default value of None, so no error if called without arguments\n",
    "    \"\"\"Expresses love to all creation, or a specific dog.\"\"\"\n",
    "    #this thing above is a docstring, and it's good habit to provide functions with them.\n",
    "    if name is None: #special behavior if no argument\n",
    "        print(\"Glory to all living things!\")\n",
    "    else: \n",
    "        print(\"I have a lovely dog named\", name)\n",
    "        \n",
    "    \n",
    "express_love(\"Teddy\")\n",
    "express_love() #default value is called here"
   ]
  },
  {
   "cell_type": "code",
   "execution_count": 13,
   "metadata": {},
   "outputs": [
    {
     "name": "stdout",
     "output_type": "stream",
     "text": [
      "['Spot', 'Fido', 'Reks', 'Teddy']\n",
      "the loop starts now\n",
      "I have a lovely dog named Spot\n",
      "I have a lovely dog named Fido\n",
      "I have a lovely dog named Reks\n",
      "I have a lovely dog named Teddy\n"
     ]
    }
   ],
   "source": [
    "#let's glorify several dogs in one go\n",
    "\n",
    "names = [\"Spot\", \"Fido\", \"Reks\", \"Teddy\"]\n",
    "print(names)\n",
    "print(\"the loop starts now\")\n",
    "for name in names: #\"for\" here makes your running variable (name) take values from the list (names) one by one\n",
    "    express_love(name)"
   ]
  },
  {
   "cell_type": "code",
   "execution_count": 4,
   "metadata": {},
   "outputs": [
    {
     "data": {
      "text/plain": [
       "<function __main__.express_love(name)>"
      ]
     },
     "execution_count": 4,
     "metadata": {},
     "output_type": "execute_result"
    }
   ],
   "source": [
    "express_love #if you call a function name without (), instead of running the function you \"get\" the function itself"
   ]
  },
  {
   "cell_type": "code",
   "execution_count": null,
   "metadata": {},
   "outputs": [],
   "source": []
  },
  {
   "cell_type": "code",
   "execution_count": 11,
   "metadata": {},
   "outputs": [],
   "source": [
    "#express_hatred #this one doesn't exist\n",
    "#error message tries to tell you where error happened (which line)\n",
    "#and it tries to name the errror (very last row of error message)"
   ]
  },
  {
   "cell_type": "code",
   "execution_count": 17,
   "metadata": {},
   "outputs": [
    {
     "name": "stdout",
     "output_type": "stream",
     "text": [
      "4\n",
      "14\n",
      "5\n",
      "14\n",
      "5\n"
     ]
    }
   ],
   "source": [
    "#functions that do something and give it back to you\n",
    "#built-in\n",
    "print(len(names)) #takes something and returns length of it\n",
    "\n",
    "#imagine that somebody has to calculate x ** 2+5 again and again\n",
    "\n",
    "#doesn't take two arguments (i. e. x = (2,3) and doesn't work w lists\n",
    "\n",
    "print(3**2+5)\n",
    "print(0**2+5)\n",
    "\n",
    "def my_calculation(x): #strategic choice of not having a default value; we want it to protest\n",
    "    \"\"\" calculates this very important formula on which our life hinges.\"\"\"\n",
    "    return x**2 + 5\n",
    "print(my_calculation(3))\n",
    "print(my_calculation(0))"
   ]
  },
  {
   "cell_type": "markdown",
   "metadata": {},
   "source": [
    "# markdown!"
   ]
  },
  {
   "cell_type": "markdown",
   "metadata": {},
   "source": [
    "markdown is cool! here's what happens when you write! you get text! fi you start a new line nothing happens.\n",
    "\n",
    "if you want a new paragraph, you need to skip a line.\n",
    "\n",
    "* to do a bullet point list,\n",
    "* you use asterisks and a space.\n",
    "\n",
    "to make a link, you [write the words in square brackets](http://google.com) followed by a link in round parentheses\n",
    "\n",
    "## second level title\n",
    "\n",
    "### third leve title\n",
    "\n",
    "#### fourth level title\n",
    "\n",
    "##### fifth level title\n",
    "###### sixth level title\n",
    "\n",
    "1) if you want to make your text abt coding look like coding, put some key words in reverse quotation marks. it will look like this: `print(4)` it looks fun! `5+5=10`\n",
    "\n",
    "another fancy thing is math! math thingies are coded in little snippets of LaTeX, and go between dollar signs. For example, $\\displaystyle\\sum_(i=0)^(\\inf)\\sqrt(1/n)$\n",
    "\n",
    "$/displaystyle\\frac(1\\1+x)$"
   ]
  },
  {
   "cell_type": "code",
   "execution_count": null,
   "metadata": {},
   "outputs": [],
   "source": []
  },
  {
   "cell_type": "code",
   "execution_count": null,
   "metadata": {},
   "outputs": [],
   "source": []
  },
  {
   "cell_type": "code",
   "execution_count": null,
   "metadata": {},
   "outputs": [],
   "source": []
  },
  {
   "cell_type": "code",
   "execution_count": null,
   "metadata": {},
   "outputs": [],
   "source": []
  },
  {
   "cell_type": "code",
   "execution_count": null,
   "metadata": {},
   "outputs": [],
   "source": []
  },
  {
   "cell_type": "code",
   "execution_count": null,
   "metadata": {},
   "outputs": [],
   "source": []
  },
  {
   "cell_type": "code",
   "execution_count": null,
   "metadata": {},
   "outputs": [],
   "source": []
  }
 ],
 "metadata": {
  "kernelspec": {
   "display_name": "Python 3",
   "language": "python",
   "name": "python3"
  },
  "language_info": {
   "codemirror_mode": {
    "name": "ipython",
    "version": 3
   },
   "file_extension": ".py",
   "mimetype": "text/x-python",
   "name": "python",
   "nbconvert_exporter": "python",
   "pygments_lexer": "ipython3",
   "version": "3.7.3"
  }
 },
 "nbformat": 4,
 "nbformat_minor": 2
}
