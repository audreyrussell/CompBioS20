{
 "cells": [
  {
   "cell_type": "markdown",
   "metadata": {},
   "source": [
    "# Audrey's Final Project: Trade-Offs & Selection"
   ]
  },
  {
   "cell_type": "markdown",
   "metadata": {},
   "source": [
    "Here, I plan to build upon the pandemic/vaccine model that we've been working with for the past few weeks. Starting with the initial virus that we built together, I want to change two parameters: probability of infection and infection period. The two will contradict each other in that a high value for one parameter will be accompanied by a lower value for the other, and vice versa. Graphing the viral count for each combination of values will provide insights into which combination of trade-offs is the most virulent."
   ]
  },
  {
   "cell_type": "code",
   "execution_count": 1,
   "metadata": {},
   "outputs": [],
   "source": [
    "#importing all the necessary packages to run the model\n",
    "import numpy as np\n",
    "import networkx as nx\n",
    "import matplotlib.pyplot as plt\n",
    "import random"
   ]
  },
  {
   "cell_type": "code",
   "execution_count": 2,
   "metadata": {},
   "outputs": [],
   "source": [
    "#previously defined elements of the \"graph\" class. \n",
    "class Graph():\n",
    "    def __init__(self):\n",
    "        self.gdict = {}\n",
    "        self.val = {}\n",
    "        \n",
    "    def add_node(self, node, val= None):\n",
    "        if node not in self.gdict:\n",
    "            self.gdict[node] = []\n",
    "        self.val[node] = val\n",
    "        \n",
    "    def add_edge(self, node1, node2):        \n",
    "        self.add_node(node1)\n",
    "        self.add_node(node2)\n",
    "       \n",
    "        if node2 not in self.gdict[node1]:\n",
    "            self.gdict[node1].append(node2)\n",
    "        if node1 not in self.gdict[node2]:\n",
    "            self.gdict[node2].append(node1)\n",
    "    \n",
    "    def delete_node(self, doomed_node):\n",
    "        if doomed_node not in self.gdict:\n",
    "            raise KeyError(f\"cannot delete {doomed_node}; it doesn't exist!\")\n",
    "            for other_node in self.gdict[doomed_node]:\n",
    "                self.gdict[other_node].remove(doomed_node)\n",
    "            del self.gdict[doomed_node]\n",
    "            del self.values[doomed_node]\n",
    "    \n",
    "    def delete_edge(self, node1, node2):\n",
    "        if node1 not in self.gdict[node2]: return \n",
    "        self.gdict[node1].remove(node2)\n",
    "        self.gdict[node2].remove(node1)\n",
    "        \n",
    "    def get_nodes(self):\n",
    "        \"\"\"list of nodes\"\"\"\n",
    "        return list(self.gdict.keys()) \n",
    "    \n",
    "    def get_edges(self):\n",
    "        \"\"\"list of edges\"\"\"\n",
    "        out = []\n",
    "        for node,links in self.gdict.items():\n",
    "            for link in links:\n",
    "                if node<link:\n",
    "                    out.append((node,link))\n",
    "        return out\n",
    "    \n",
    "    def __str__(self):\n",
    "        out = 'A graph of ' + str(len(self.gdict)) + ' nodes:\\n'\n",
    "        for node in self.gdict:\n",
    "            out += str(node) + ':' + str(self.gdict[node]) + '\\n'\n",
    "        return out\n",
    "    \n",
    "    def plot(self):\n",
    "        RED = (1,0,0)\n",
    "        BLUE = (0,0.2,0.6)\n",
    "        GREEN = (0, 0.8, 0.5)\n",
    "        YELLOW = (0.5, 0.5, 0.5)\n",
    "        \n",
    "        g_nx = nx.Graph()\n",
    "        nodes = self.get_nodes()\n",
    "        g_nx.add_nodes_from(nodes)\n",
    "        g_nx.add_edges_from(self.get_edges())\n",
    "        colors = []\n",
    "        for i in range(len(nodes)):\n",
    "            if self.val[nodes[i]] is not None:\n",
    "                if self.val[nodes[i]][0] == 'healthy':\n",
    "                    colors.append(BLUE)\n",
    "                elif self.val[nodes[i]][0] == 'infected':\n",
    "                    colors.append(RED)\n",
    "                elif self.val[nodes[i]][0] == 'vaccinated':\n",
    "                    colors.append(YELLOW)\n",
    "                else:\n",
    "                    colors.append(GREEN)\n",
    "            else:\n",
    "                colors.append(BLUE)\n",
    "        nx.draw_kamada_kawai(g_nx, node_size=100, node_color=colors)"
   ]
  },
  {
   "cell_type": "code",
   "execution_count": 3,
   "metadata": {},
   "outputs": [],
   "source": [
    "def degrees(g):\n",
    "    \"\"\"plots how many nodes have a given number of degrees (histogram)\"\"\"\n",
    "    degrees = []\n",
    "    for node,links in g.gdict.items():\n",
    "        degrees.append(len(links))\n",
    "\n",
    "    hist = np.zeros(max(degrees)+1)\n",
    "    for degree in degrees:\n",
    "        hist[degree] += 1\n",
    "    \n",
    "    plt.plot(hist,'.-');\n",
    "    plt.xlabel('degrees')\n",
    "    plt.ylabel('frequency')\n",
    "    \n",
    "    return hist"
   ]
  },
  {
   "cell_type": "code",
   "execution_count": 4,
   "metadata": {},
   "outputs": [],
   "source": [
    "def barabasi(n_nodes = 9):\n",
    "    \"\"\"the network we use–follows the formula n edges = 2 * n nodes\"\"\"\n",
    "    g = Graph()\n",
    "    degrees = np.zeros(n_nodes)\n",
    "    nodes = np.array(range(n_nodes))\n",
    "    \n",
    "    for i in range(n_nodes):\n",
    "        if i == 0:\n",
    "            g.add_node(0)\n",
    "        elif i == 1:\n",
    "            g.add_edge(1,0)\n",
    "            degrees[0] = 1\n",
    "            degrees[1] = 1\n",
    "        else:\n",
    "            connections = np.random.choice(nodes[:i], size = 2, replace = False, p=degrees[:i]/np.sum(degrees))\n",
    "            for node in connections:\n",
    "                g.add_edge(i, node)\n",
    "                degrees[node] += 1\n",
    "            degrees[i] = 2\n",
    "        #print(i, \"nodes:\", nodes, \"degrees:\", degrees)\n",
    "    return g\n",
    "\n",
    "#g = barabasi(20)\n",
    "#plt.figure(figsize=(12,4))\n",
    "#plt.subplot(121)\n",
    "#g.plot()\n",
    "#plt.subplot(122)\n",
    "#degrees(g)"
   ]
  },
  {
   "cell_type": "code",
   "execution_count": 5,
   "metadata": {},
   "outputs": [
    {
     "name": "stderr",
     "output_type": "stream",
     "text": [
      "/Users/audreyrussell/anaconda3/lib/python3.7/site-packages/networkx/drawing/nx_pylab.py:611: MatplotlibDeprecationWarning: isinstance(..., numbers.Number)\n",
      "  if cb.is_numlike(alpha):\n"
     ]
    },
    {
     "data": {
      "image/png": "[encoded data removed]",
      "text/plain": [
       "<Figure size 216x216 with 1 Axes>"
      ]
     },
     "metadata": {},
     "output_type": "display_data"
    }
   ],
   "source": [
    "def vaccinate(g, vax_rate = 0, preference = 1):\n",
    "    '''distribute vaccination status. preference == 1 means no assortativity'''\n",
    "    nodes = g.get_nodes()\n",
    "    n_to_vaccinate = int(len(nodes) * vax_rate)\n",
    "    #np.random.choic\n",
    "    prob = np.ones(len(nodes)) / len(nodes)\n",
    "    for node in nodes:\n",
    "        prob[node] = 1\n",
    "    for i in range(n_to_vaccinate):\n",
    "        p = []\n",
    "        for node in nodes:\n",
    "            p.append(prob[node])\n",
    "        target_node = np.random.choice(nodes, p = p/np.sum(p))\n",
    "        g.val[target_node] = ['vaccinated', 0]\n",
    "        for friend in g.gdict[node]:\n",
    "            prob[friend] *= preference\n",
    "        nodes.remove(target_node)\n",
    "    for node in nodes:\n",
    "        g.val[node] = ['healthy', 0]\n",
    "g = barabasi(10)\n",
    "vaccinate(g, vax_rate = 0.5)\n",
    "plt.figure(figsize = (3,3))\n",
    "g.plot()\n",
    "#print(measure_assortativity(g))"
   ]
  },
  {
   "cell_type": "code",
   "execution_count": 6,
   "metadata": {},
   "outputs": [
    {
     "name": "stdout",
     "output_type": "stream",
     "text": [
      "{0: ['vaccinated', 0], 1: ['healthy', 0], 2: ['healthy', 0], 3: ['vaccinated', 0], 4: ['vaccinated', 0], 5: ['healthy', 0], 6: ['healthy', 0], 7: ['vaccinated', 0], 8: ['healthy', 0], 9: ['vaccinated', 0]}\n"
     ]
    }
   ],
   "source": [
    "print(g.val)"
   ]
  },
  {
   "cell_type": "code",
   "execution_count": 7,
   "metadata": {},
   "outputs": [
    {
     "data": {
      "text/plain": [
       "0.5882352941176471"
      ]
     },
     "execution_count": 7,
     "metadata": {},
     "output_type": "execute_result"
    }
   ],
   "source": [
    "def measure_assortativity(g):\n",
    "    \"\"\"calculates the probability that connected nodes share the same assortativity value\"\"\"\n",
    "    count = 0\n",
    "    edges = g.get_edges()\n",
    "    for edge in edges:\n",
    "        if g.val[edge[0]][0]==g.val[edge[1]][0]:\n",
    "            #print(g.values[edge[0]][0],g.values[edge[1]][0])\n",
    "            count += 1\n",
    "    return count/len(edges)\n",
    "\n",
    "measure_assortativity(g)"
   ]
  },
  {
   "cell_type": "code",
   "execution_count": 8,
   "metadata": {},
   "outputs": [],
   "source": [
    "def pandemic(g, prob, nsteps, infect_period, reinitialize=True):\n",
    "    \"\"\"runs the pandemic. \"\"\"\n",
    "    nodes = g.get_nodes()\n",
    "    if reinitialize:\n",
    "        susceptible = []\n",
    "        for node in nodes:\n",
    "            if g.val[node][0]=='healthy':\n",
    "                susceptible.append(node)\n",
    "        patient_zero = np.random.choice(susceptible)\n",
    "        g.val[patient_zero] = ['infected', 0] \n",
    "\n",
    "    history = np.zeros(nsteps)\n",
    "    for t in range(nsteps):\n",
    "        newly_infected = []\n",
    "        is_active = False\n",
    "        for node in nodes:\n",
    "            if g.val[node][0] == 'infected':         \n",
    "                is_active = True\n",
    "                if g.val[node][1] == infect_period:\n",
    "                    g.val[node][0] = 'immune'\n",
    "                else:\n",
    "                    g.val[node][1] += 1                  \n",
    "                    neighbors = g.gdict[node]\n",
    "                    for neighbor in neighbors:\n",
    "                        if g.val[neighbor][0]=='healthy' and np.random.uniform()<prob:\n",
    "                            newly_infected.append(neighbor)\n",
    "        if not is_active:\n",
    "            return history\n",
    "        for node in newly_infected:\n",
    "            g.val[node] = ['infected', 0]\n",
    "        history[t] = len(newly_infected)\n",
    "    return history\n",
    "\n",
    "#g = barabasi(20)\n",
    "#plt.figure(figsize=(12,6))\n",
    "#for i in range(8):\n",
    "#    if i==0:\n",
    "#        vaccinate(g, 0.5, 1)\n",
    "#        pandemic(g, prob=0.5, nsteps=1, infect_period=1)\n",
    "#    else:\n",
    "#        pandemic(g, prob=0.5, nsteps=1, infect_period=1, reinitialize=False)\n",
    "#    plt.subplot(2,4,i+1)\n",
    "#    g.plot()\n",
    "#   plt.title(i)\n"
   ]
  },
  {
   "cell_type": "code",
   "execution_count": null,
   "metadata": {},
   "outputs": [],
   "source": []
  },
  {
   "cell_type": "markdown",
   "metadata": {},
   "source": [
    "Here is the experiment, where I will run several generations of the pandemic. I will go through each value of infectiousness and infection period, and graph the infection rates of all of them. "
   ]
  },
  {
   "cell_type": "code",
   "execution_count": 47,
   "metadata": {},
   "outputs": [],
   "source": [
    "\n",
    "#constants:\n",
    "N_STEPS = 10\n",
    "N_NODES = 100\n",
    "VAX_RATE = 0.5\n",
    "N_PARAM_STEPS = 10 #goes through x many values\n",
    "N_TRIALS = 10 #for each combination of parameters\n",
    "\n",
    "#counters:\n",
    "history = np.zeros(shape = (N_STEPS, N_TRIALS*N_PARAM_STEPS)) #2 dimensional–use number of people affected\n",
    "total_infected = np.zeros(shape = (N_TRIALS, N_PARAM_STEPS))\n",
    "\n",
    "#variable parameters\n",
    "prob = np.zeros(N_STEPS)\n",
    "infect_period = np.zeros(N_STEPS)\n",
    "\n",
    "#print(g.val)\n",
    "\n",
    "for iparam in range(N_PARAM_STEPS):\n",
    "    prob[iparam] = np.random.uniform(0.1, 0.9)\n",
    "    infect_period[iparam] =  (1 - prob[iparam])\n",
    "    for itrial in range(N_TRIALS):\n",
    "        g = barabasi(N_NODES)\n",
    "        vaccinate(g, vax_rate = 0.5)\n",
    "        history[:, itrial+iparam*N_TRIALS] = pandemic(g, prob = prob[iparam], \n",
    "                                                     nsteps=N_STEPS, infect_period = infect_period[iparam])\n",
    "        count_infected = 0\n",
    "        for node, val in g.val.items():\n",
    "            if val[0] == 'immune' or val[0] == 'infected':\n",
    "                count_infected += 1\n",
    "        total_infected[itrial, iparam] = count_infected\n",
    "        \n"
   ]
  },
  {
   "cell_type": "code",
   "execution_count": 70,
   "metadata": {},
   "outputs": [
    {
     "name": "stdout",
     "output_type": "stream",
     "text": [
      "[[44. 35. 45.  3. 46. 44.  7. 41.  1.  7.]\n",
      " [38. 41. 40.  1.  1. 40. 32. 32.  1.  8.]\n",
      " [44.  1. 40. 37. 44. 32.  2.  1. 22.  7.]\n",
      " [35. 42. 40. 39. 43. 34. 43. 41. 29.  1.]\n",
      " [ 1. 38. 45.  1. 42. 46. 26. 46. 44.  1.]\n",
      " [46.  1. 41. 45.  1. 17.  9.  1. 36.  7.]\n",
      " [ 1. 48. 37. 38. 29.  1.  1. 38. 42.  2.]\n",
      " [ 2. 34. 38. 40. 47. 40.  2. 49. 17.  2.]\n",
      " [37. 40.  1. 37. 38. 30. 20. 46. 15.  8.]\n",
      " [ 8.  2. 45. 20. 42. 30. 43. 43. 45.  7.]]\n",
      "[0.54154879 0.89152927 0.59648969 0.61607468 0.87839085 0.68783319\n",
      " 0.26931361 0.73786081 0.54888846 0.11222156]\n"
     ]
    }
   ],
   "source": [
    "print(total_infected)\n",
    "print(prob)"
   ]
  },
  {
   "cell_type": "code",
   "execution_count": 69,
   "metadata": {
    "scrolled": true
   },
   "outputs": [
    {
     "data": {
      "image/png": "[encoded data removed]",
      "text/plain": [
       "<Figure size 864x360 with 2 Axes>"
      ]
     },
     "metadata": {
      "needs_background": "light"
     },
     "output_type": "display_data"
    }
   ],
   "source": [
    "plt.figure(figsize = (12,5))\n",
    "plt.subplot(121)\n",
    "plt.plot(prob, np.average(total_infected, axis = 0), '-', color='red')\n",
    "plt.xlabel(\"probability value\");\n",
    "plt.ylabel(\"# infected\");\n",
    "\n",
    "\n",
    "plt.subplot(122)\n",
    "plt.plot(infect_period, np.average(total_infected, axis = 0), '-', color='blue')\n",
    "plt.xlabel(\"infection period\");\n",
    "plt.ylabel(\"# infected\");"
   ]
  },
  {
   "cell_type": "markdown",
   "metadata": {},
   "source": []
  },
  {
   "cell_type": "code",
   "execution_count": null,
   "metadata": {},
   "outputs": [],
   "source": []
  }
 ],
 "metadata": {
  "kernelspec": {
   "display_name": "Python 3",
   "language": "python",
   "name": "python3"
  },
  "language_info": {
   "codemirror_mode": {
    "name": "ipython",
    "version": 3
   },
   "file_extension": ".py",
   "mimetype": "text/x-python",
   "name": "python",
   "nbconvert_exporter": "python",
   "pygments_lexer": "ipython3",
   "version": "3.7.3"
  }
 },
 "nbformat": 4,
 "nbformat_minor": 2
}
