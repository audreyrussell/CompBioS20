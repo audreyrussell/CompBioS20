{
 "cells": [
  {
   "cell_type": "code",
   "execution_count": 20,
   "metadata": {},
   "outputs": [],
   "source": [
    "import numpy as np\n",
    "import matplotlib.pyplot as plt\n",
    "import time"
   ]
  },
  {
   "cell_type": "code",
   "execution_count": null,
   "metadata": {},
   "outputs": [],
   "source": [
    "%matplotlib notebook\n",
    "\n",
    "n_animals = 100\n",
    "n_steps = 300\n",
    "speed = 0.05\n",
    "\n",
    "x = np.ones(n_animals) * 0.5\n",
    "y = np.ones(n_animals) * 0.5\n",
    "\n",
    "fig = plt.figure(figsize = (3,3));\n",
    "\n",
    "\n",
    "for t in range(n_steps):\n",
    "    x += np.random.randn(n_animals) * speed\n",
    "    y += np.random.randn(n_animals) * speed\n",
    "    \n",
    "    \n",
    "    #x = np.minimum(x,0)\n",
    "    #y = np.minimum(y,0)\n",
    "    #x = np.maximum(x,1)\n",
    "   # y = np.maximum(y,1)\n",
    "\n",
    "\n",
    "    \n",
    "    plt.cla()\n",
    "    plt.plot(x,y,\"k.\", markersize = 2)\n",
    "    fig.canvas.draw()\n",
    "    time.sleep(0.01)\n",
    "    plt.xlim((0,1));\n",
    "    plt.ylim((0,1));\n",
    "    plt.show()\n",
    "\n",
    "    x = np.where(x < 0, 0, y)\n",
    "    y = np.where(y < 0, x, 0)\n",
    "    x = np.where(x > 1, 0, y)\n",
    "    y = np.where(y > 1, x, 0)\n",
    "    \n",
    "   # for i in range(n_animals):\n",
    "       # if x[i] < 0:\n",
    "        #    x[i] = 0\n",
    "       # elif y[i] < 0:\n",
    "       #     y[i] = 0\n",
    "       # elif x[i] > 1:\n",
    "       #     x[i] = 1\n",
    "       # elif y[i] > 1:\n",
    "          #  y[i] = 1\n",
    "    "
   ]
  },
  {
   "cell_type": "markdown",
   "metadata": {},
   "source": [
    "the power of numpy is that if we can write a one-liner it will be really fast! so we should try to avoid for loops if possible\n",
    "\n",
    "for a playground situation, let's create a numpy array with only one negative element and then let's find a way to set this element to 0–so lijmiting from below in our geese-meese situation"
   ]
  },
  {
   "cell_type": "code",
   "execution_count": 3,
   "metadata": {},
   "outputs": [
    {
     "name": "stdout",
     "output_type": "stream",
     "text": [
      "[1 2 3 0 4]\n",
      "a<0: [False False False  True False]\n",
      "a[a<0: [-7]\n",
      "[1 2 3 0 4]\n",
      "[ 1  2  3 -7  4]\n"
     ]
    }
   ],
   "source": [
    "a = np.array([1,2,3,-7,4]) # our task is to make this -7 a 0 through limitation\n",
    "#option #1: slow loop\n",
    "for i in range(len(a)):\n",
    "    if a[i] <0: a[i] = 0\n",
    "print(a)\n",
    "\n",
    "#option #2, boolean indexing(fast)\n",
    "a = np.array([1,2,3,-7,4])\n",
    "print(\"a<0:\" , a<0)\n",
    "print(\"a[a<0:\", a[a<0]) #logical indexing\n",
    "a[a<0] = 0 #only set valuesfor those elements where the condition is true\n",
    "print(a)\n",
    "\n",
    "#option #3: vectorized formula (fast)\n",
    "a = np.array([1,2,3,-7,4])\n",
    "np.maximum(a,0) #np.max calculates the max of all elements, np.maximum applies max to each element\n",
    "print(a)"
   ]
  },
  {
   "cell_type": "code",
   "execution_count": null,
   "metadata": {},
   "outputs": [],
   "source": [
    "#persistent moose time\n",
    "%matplotlib notebook\n",
    "\n",
    "n_animals = 100\n",
    "n_steps = 100\n",
    "speed = 0.05\n",
    "\n",
    "x = np.ones(n_animals) * 0.5\n",
    "y = np.ones(n_animals) * 0.5\n",
    "\n",
    "fig = plt.figure(figsize = (3,3));\n",
    "\n",
    "for a in range(n_animals):\n",
    "    vx = np.random.rand(n_animals)\n",
    "    vy = np.random.rand(n_animals)\n",
    "    \n",
    "    for t in range(n_steps):\n",
    "        x += vx * speed\n",
    "        y += vy * speed\n",
    "        \n",
    "        \n",
    "        plt.cla()\n",
    "        plt.plot(x,y,\"k.\", markersize = 2)\n",
    "        fig.canvas.draw()\n",
    "        time.sleep(0.01)\n",
    "        plt.xlim((0,1));\n",
    "        plt.ylim((0,1));\n",
    "        plt.show()\n",
    "        \n",
    "        x = np.minimum(x,0)\n",
    "        y = np.minimum(y,0)\n",
    "        x = np.maximum(x,1)\n",
    "        y = np.maximum(y,1)"
   ]
  },
  {
   "cell_type": "code",
   "execution_count": null,
   "metadata": {},
   "outputs": [],
   "source": []
  }
 ],
 "metadata": {
  "kernelspec": {
   "display_name": "Python 3",
   "language": "python",
   "name": "python3"
  },
  "language_info": {
   "codemirror_mode": {
    "name": "ipython",
    "version": 3
   },
   "file_extension": ".py",
   "mimetype": "text/x-python",
   "name": "python",
   "nbconvert_exporter": "python",
   "pygments_lexer": "ipython3",
   "version": "3.7.3"
  }
 },
 "nbformat": 4,
 "nbformat_minor": 2
}
