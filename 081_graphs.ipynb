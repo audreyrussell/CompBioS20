{
 "cells": [
  {
   "cell_type": "code",
   "execution_count": 1,
   "metadata": {},
   "outputs": [],
   "source": [
    "import numpy as np\n",
    "import networkx as nx\n",
    "import matplotlib.pyplot as plt"
   ]
  },
  {
   "cell_type": "markdown",
   "metadata": {},
   "source": [
    "# long-term goals\n",
    "\n",
    "• represent networks/graphs in python\n",
    "• create interesting (realistic) networks\n",
    "• describe some of the important/interesting parts of networks\n",
    "• a model for processes on networks"
   ]
  },
  {
   "cell_type": "markdown",
   "metadata": {},
   "source": [
    "edge\n",
    "node/vertex\n",
    "loop (node is connected to itself\n",
    "cycle \n",
    "\n",
    "assign numbers to nodes–edge is two numbers"
   ]
  },
  {
   "cell_type": "markdown",
   "metadata": {},
   "source": []
  },
  {
   "cell_type": "code",
   "execution_count": 2,
   "metadata": {},
   "outputs": [
    {
     "data": {
      "text/plain": [
       "{1: [2, 3], 0: [1, 4]}"
      ]
     },
     "execution_count": 2,
     "metadata": {},
     "output_type": "execute_result"
    }
   ],
   "source": [
    "a = {1:[2,3], 0:[1,4]}\n",
    "a"
   ]
  },
  {
   "cell_type": "code",
   "execution_count": 3,
   "metadata": {},
   "outputs": [
    {
     "name": "stdout",
     "output_type": "stream",
     "text": [
      "a graph of 7 nodes: \n",
      "0: [1, 2]\n",
      "1: [0]\n",
      "2: [0]\n",
      "3: [4]\n",
      "4: [3, 5]\n",
      "5: [4]\n",
      "7: []\n",
      "\n",
      "Nodes: [0, 1, 2, 3, 4, 5, 7]\n",
      "edges: [(0, 1), (0, 2), (3, 4), (4, 5)]\n"
     ]
    },
    {
     "name": "stderr",
     "output_type": "stream",
     "text": [
      "/Users/audreyrussell/anaconda3/lib/python3.7/site-packages/networkx/drawing/nx_pylab.py:611: MatplotlibDeprecationWarning: isinstance(..., numbers.Number)\n",
      "  if cb.is_numlike(alpha):\n"
     ]
    },
    {
     "data": {
      "image/png": "[encoded data removed]",
      "text/plain": [
       "<Figure size 432x288 with 1 Axes>"
      ]
     },
     "metadata": {},
     "output_type": "display_data"
    }
   ],
   "source": [
    "class Graph():\n",
    "    def __init__(self):\n",
    "       # self.edges = [] #a list of tuples\n",
    "     #   self.nodes = []\n",
    "        self.gdict = {}\n",
    "        \n",
    "    \n",
    "    def add_node(self, node):\n",
    "        \"\"\"if node not in dictionary, add it!\"\"\"\n",
    "        if node not in self.gdict:\n",
    "            self.gdict[node] = []\n",
    "    \n",
    "    def add_edge(self, node1, node2):\n",
    "        self.add_node(node1)\n",
    "        self.add_node(node2)\n",
    "        if node2 not in self.gdict[node1]:\n",
    "            self.gdict[node1].append(node2)\n",
    "        if node1 not in self.gdict[node2]:\n",
    "            self.gdict[node2].append(node1)\n",
    "            \n",
    "    def nodes(self):\n",
    "        \"\"\"returns a list of nodes\"\"\"\n",
    "        return list(self.gdict.keys())\n",
    "    \n",
    "    def edges(self):\n",
    "        \"\"\"returns a list of edges\"\"\"\n",
    "        out = []\n",
    "        for node,links in self.gdict.items():\n",
    "            for link in links:\n",
    "                if node < link:\n",
    "                    out.append((node,link))\n",
    "        return out\n",
    "            \n",
    "    def __str__(self):\n",
    "        out = \"a graph of \" + str(len(self.gdict)) + \" nodes: \\n\"\n",
    "        for node in self.gdict:\n",
    "            out += str(node) + \": \" + str(self.gdict[node]) + \"\\n\"\n",
    "        return out\n",
    "    \n",
    "    def plot(self):\n",
    "        g_nx = nx.Graph()\n",
    "        g_nx.add_nodes_from(self.nodes())\n",
    "        g_nx.add_edges_from(self.edges())\n",
    "        nx.draw_kamada_kawai(g_nx, node_size = 100)\n",
    "\n",
    "#test\n",
    "g = Graph()\n",
    "g.add_edge(0,1)\n",
    "g.add_edge(0,2)\n",
    "g.add_edge(3,4)\n",
    "g.add_edge(4,5)\n",
    "g.add_node(7)\n",
    "print(g)\n",
    "print(\"Nodes:\" , g.nodes())\n",
    "print(\"edges:\", g.edges())\n",
    "g.plot()"
   ]
  },
  {
   "cell_type": "code",
   "execution_count": 5,
   "metadata": {},
   "outputs": [
    {
     "name": "stdout",
     "output_type": "stream",
     "text": [
      "a graph of 50 nodes: \n",
      "0: [17, 43, 9, 1]\n",
      "1: [10, 40, 24, 28, 0, 45]\n",
      "2: [26, 49, 19]\n",
      "3: [40, 8, 34, 26, 15]\n",
      "4: [46]\n",
      "5: [28, 40]\n",
      "6: [41, 30]\n",
      "7: []\n",
      "8: [3, 34, 15, 45, 33]\n",
      "9: [49, 0]\n",
      "10: [1]\n",
      "11: []\n",
      "12: [13, 20]\n",
      "13: [12]\n",
      "14: [22]\n",
      "15: [8, 43, 25, 3]\n",
      "16: [48, 38]\n",
      "17: [0, 40]\n",
      "18: [35]\n",
      "19: [39, 31, 33, 2]\n",
      "20: [12, 32]\n",
      "21: []\n",
      "22: [14]\n",
      "23: [43, 37]\n",
      "24: [1]\n",
      "25: [15]\n",
      "26: [2, 45, 3, 31]\n",
      "27: [33]\n",
      "28: [5, 1]\n",
      "29: [30]\n",
      "30: [6, 29]\n",
      "31: [19, 26]\n",
      "32: [20]\n",
      "33: [27, 19, 8]\n",
      "34: [3, 8]\n",
      "35: [18]\n",
      "36: [46]\n",
      "37: [23]\n",
      "38: [44, 16]\n",
      "39: [19]\n",
      "40: [3, 1, 44, 48, 5, 17]\n",
      "41: [6]\n",
      "42: []\n",
      "43: [23, 0, 15]\n",
      "44: [40, 38]\n",
      "45: [26, 8, 1]\n",
      "46: [4, 36]\n",
      "47: []\n",
      "48: [40, 16]\n",
      "49: [9, 2]\n",
      "\n"
     ]
    },
    {
     "data": {
      "image/png": "[encoded data removed]",
      "text/plain": [
       "<Figure size 432x288 with 1 Axes>"
      ]
     },
     "metadata": {},
     "output_type": "display_data"
    }
   ],
   "source": [
    "N_NODES = 50\n",
    "N_EDGES = N_NODES\n",
    "\n",
    "g = Graph()\n",
    "for i in range(N_NODES):\n",
    "    g.add_node(i)\n",
    "edges = []\n",
    "while len(edges) < N_EDGES:\n",
    "    n1 = np.random.randint(low = 0, high = N_NODES)\n",
    "    n2 = np.random.randint(low = 0, high = N_NODES)\n",
    "    if n2 < n1:\n",
    "        n1,n2 = n2,n1\n",
    "    \n",
    "    if (n1,n2) not in edges and n1 != n2:\n",
    "        g.add_edge(n1,n2)\n",
    "        edges.append((n1,n2))\n",
    "    \n",
    "print(g)\n",
    "g.plot()"
   ]
  },
  {
   "cell_type": "code",
   "execution_count": 6,
   "metadata": {},
   "outputs": [
    {
     "name": "stdout",
     "output_type": "stream",
     "text": [
      "[4, 6, 3, 5, 1, 2, 2, 0, 5, 2, 1, 0, 2, 1, 1, 4, 2, 2, 1, 4, 2, 0, 1, 2, 1, 1, 4, 1, 2, 1, 2, 2, 1, 3, 2, 1, 1, 1, 2, 1, 6, 1, 0, 3, 2, 3, 2, 0, 2, 2]\n",
      "[ 5. 16. 17.  4.  4.  2.  2.]\n"
     ]
    },
    {
     "data": {
      "text/plain": [
       "Text(0, 0.5, 'frequency')"
      ]
     },
     "execution_count": 6,
     "metadata": {},
     "output_type": "execute_result"
    },
    {
     "data": {
      "image/png": "[encoded data removed]",
      "text/plain": [
       "<Figure size 432x288 with 1 Axes>"
      ]
     },
     "metadata": {
      "needs_background": "light"
     },
     "output_type": "display_data"
    }
   ],
   "source": [
    "degrees = []\n",
    "for node,links in g.gdict.items():\n",
    "    degrees.append(len(links))\n",
    "    \n",
    "print(degrees)\n",
    "hist = np.zeros(max(degrees) + 1)\n",
    "for degree in degrees:\n",
    "    hist[degree] += 1\n",
    "print(hist)\n",
    "\n",
    "plt.plot(hist, \".-\");\n",
    "plt.xlabel(\"degrees\")\n",
    "plt.ylabel(\"frequency\")"
   ]
  },
  {
   "cell_type": "markdown",
   "metadata": {},
   "source": [
    "different way to create random network:\n",
    "add nodes one by one\n",
    "as you add it, choose a node to connect to randomly\n",
    "once the network is ready, compare its degrees distribution to that of the \"truly random\" network"
   ]
  },
  {
   "cell_type": "markdown",
   "metadata": {},
   "source": [
    "# homework\n",
    "make extra nodes and add to the network (via random selection)\n",
    "add them to the graph"
   ]
  },
  {
   "cell_type": "code",
   "execution_count": 15,
   "metadata": {},
   "outputs": [
    {
     "name": "stdout",
     "output_type": "stream",
     "text": [
      "[50, 50, 50, 50, 50, 50, 50, 50, 50, 50, 50, 50, 50, 50, 50, 50, 50, 50, 50, 50, 50, 50, 50, 50, 50, 50, 50, 50, 50, 50, 50, 50, 50, 50, 50, 50, 50, 50, 50, 50, 50, 50, 50, 50, 50, 50, 50, 50, 50, 50, 51]\n",
      "[ 0.  0.  0.  0.  0.  0.  0.  0.  0.  0.  0.  0.  0.  0.  0.  0.  0.  0.\n",
      "  0.  0.  0.  0.  0.  0.  0.  0.  0.  0.  0.  0.  0.  0.  0.  0.  0.  0.\n",
      "  0.  0.  0.  0.  0.  0.  0.  0.  0.  0.  0.  0.  0.  0. 50.  1.]\n"
     ]
    },
    {
     "data": {
      "text/plain": [
       "Text(0, 0.5, 'frequency')"
      ]
     },
     "execution_count": 15,
     "metadata": {},
     "output_type": "execute_result"
    },
    {
     "data": {
      "image/png": "[encoded data removed]",
      "text/plain": [
       "<Figure size 432x288 with 1 Axes>"
      ]
     },
     "metadata": {
      "needs_background": "light"
     },
     "output_type": "display_data"
    }
   ],
   "source": [
    "N_STEPS = 10\n",
    "for s in range(N_STEPS):\n",
    "    for i in range(N_NODES):\n",
    "        g.add_node(i)\n",
    "        for j in range(N_NODES):\n",
    "            if j != i:\n",
    "                g.add_edge(i, j) #it should be between i and j but this doesn't work!\n",
    "                \n",
    "                \n",
    "#i think histogram stays the same? here she is\n",
    "degrees = []\n",
    "for node,links in g.gdict.items():\n",
    "    degrees.append(len(links))\n",
    "    \n",
    "print(degrees)\n",
    "hist = np.zeros(max(degrees) + 1)\n",
    "for degree in degrees:\n",
    "    hist[degree] += 1\n",
    "print(hist)\n",
    "\n",
    "plt.plot(hist, \".-\");\n",
    "plt.xlabel(\"degrees\")\n",
    "plt.ylabel(\"frequency\")"
   ]
  },
  {
   "cell_type": "markdown",
   "metadata": {},
   "source": [
    "Not sure what happened here! I think I'm able to add extra nodes–the issue comes with forming an edge between new nodes and existing ones. Each node is only forming an edge with the new node and that is not okay!  "
   ]
  }
 ],
 "metadata": {
  "kernelspec": {
   "display_name": "Python 3",
   "language": "python",
   "name": "python3"
  },
  "language_info": {
   "codemirror_mode": {
    "name": "ipython",
    "version": 3
   },
   "file_extension": ".py",
   "mimetype": "text/x-python",
   "name": "python",
   "nbconvert_exporter": "python",
   "pygments_lexer": "ipython3",
   "version": "3.7.3"
  }
 },
 "nbformat": 4,
 "nbformat_minor": 2
}
