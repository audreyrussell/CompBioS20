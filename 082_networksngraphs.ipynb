{
 "cells": [
  {
   "cell_type": "code",
   "execution_count": 1,
   "metadata": {},
   "outputs": [],
   "source": [
    "import numpy as np\n",
    "import networkx as nx\n",
    "import matplotlib.pyplot as plt"
   ]
  },
  {
   "cell_type": "markdown",
   "metadata": {},
   "source": [
    "# long-term goals\n",
    "\n",
    "• represent networks/graphs in python\n",
    "• create interesting (realistic) networks\n",
    "• describe some of the important/interesting parts of networks\n",
    "• a model for processes on networks"
   ]
  },
  {
   "cell_type": "markdown",
   "metadata": {},
   "source": [
    "edge\n",
    "node/vertex\n",
    "loop (node is connected to itself\n",
    "cycle \n",
    "\n",
    "assign numbers to nodes–edge is two numbers"
   ]
  },
  {
   "cell_type": "markdown",
   "metadata": {},
   "source": []
  },
  {
   "cell_type": "code",
   "execution_count": 2,
   "metadata": {},
   "outputs": [
    {
     "data": {
      "text/plain": [
       "{1: [2, 3], 0: [1, 4]}"
      ]
     },
     "execution_count": 2,
     "metadata": {},
     "output_type": "execute_result"
    }
   ],
   "source": [
    "a = {1:[2,3], 0:[1,4]}\n",
    "a"
   ]
  },
  {
   "cell_type": "code",
   "execution_count": 3,
   "metadata": {},
   "outputs": [
    {
     "name": "stdout",
     "output_type": "stream",
     "text": [
      "a graph of 7 nodes: \n",
      "0: [1, 2]\n",
      "1: [0]\n",
      "2: [0]\n",
      "3: [4]\n",
      "4: [3, 5]\n",
      "5: [4]\n",
      "7: []\n",
      "\n",
      "Nodes: [0, 1, 2, 3, 4, 5, 7]\n",
      "edges: [(0, 1), (0, 2), (3, 4), (4, 5)]\n"
     ]
    },
    {
     "name": "stderr",
     "output_type": "stream",
     "text": [
      "/Users/audreyrussell/anaconda3/lib/python3.7/site-packages/networkx/drawing/nx_pylab.py:611: MatplotlibDeprecationWarning: isinstance(..., numbers.Number)\n",
      "  if cb.is_numlike(alpha):\n"
     ]
    },
    {
     "data": {
      "image/png": "[encoded data removed]",
      "text/plain": [
       "<Figure size 432x288 with 1 Axes>"
      ]
     },
     "metadata": {},
     "output_type": "display_data"
    }
   ],
   "source": [
    "class Graph():\n",
    "    def __init__(self):\n",
    "       # self.edges = [] #a list of tuples\n",
    "     #   self.nodes = []\n",
    "        self.gdict = {}\n",
    "        \n",
    "    \n",
    "    def add_node(self, node):\n",
    "        \"\"\"if node not in dictionary, add it!\"\"\"\n",
    "        if node not in self.gdict:\n",
    "            self.gdict[node] = []\n",
    "    \n",
    "    def add_edge(self, node1, node2):\n",
    "        self.add_node(node1)\n",
    "        self.add_node(node2)\n",
    "        if node2 not in self.gdict[node1]:\n",
    "            self.gdict[node1].append(node2)\n",
    "        if node1 not in self.gdict[node2]:\n",
    "            self.gdict[node2].append(node1)\n",
    "            \n",
    "    def nodes(self):\n",
    "        \"\"\"returns a list of nodes\"\"\"\n",
    "        return list(self.gdict.keys())\n",
    "    \n",
    "    def edges(self):\n",
    "        \"\"\"returns a list of edges\"\"\"\n",
    "        out = []\n",
    "        for node,links in self.gdict.items():\n",
    "            for link in links:\n",
    "                if node < link:\n",
    "                    out.append((node,link))\n",
    "        return out\n",
    "            \n",
    "    def __str__(self):\n",
    "        out = \"a graph of \" + str(len(self.gdict)) + \" nodes: \\n\"\n",
    "        for node in self.gdict:\n",
    "            out += str(node) + \": \" + str(self.gdict[node]) + \"\\n\"\n",
    "        return out\n",
    "    \n",
    "    def plot(self):\n",
    "        g_nx = nx.Graph()\n",
    "        g_nx.add_nodes_from(self.nodes())\n",
    "        g_nx.add_edges_from(self.edges())\n",
    "        nx.draw_kamada_kawai(g_nx, node_size = 100)\n",
    "\n",
    "#test\n",
    "g = Graph()\n",
    "g.add_edge(0,1)\n",
    "g.add_edge(0,2)\n",
    "g.add_edge(3,4)\n",
    "g.add_edge(4,5)\n",
    "g.add_node(7)\n",
    "print(g)\n",
    "print(\"Nodes:\" , g.nodes())\n",
    "print(\"edges:\", g.edges())\n",
    "g.plot()"
   ]
  },
  {
   "cell_type": "code",
   "execution_count": 4,
   "metadata": {},
   "outputs": [
    {
     "name": "stdout",
     "output_type": "stream",
     "text": [
      "a graph of 50 nodes: \n",
      "0: [30, 31, 45]\n",
      "1: [44, 17, 11, 4]\n",
      "2: [5, 3]\n",
      "3: [2, 48, 39]\n",
      "4: [1]\n",
      "5: [2, 8]\n",
      "6: [46, 7]\n",
      "7: [37, 6]\n",
      "8: [29, 41, 46, 5]\n",
      "9: [29]\n",
      "10: []\n",
      "11: [1, 14]\n",
      "12: [14]\n",
      "13: [29, 45]\n",
      "14: [12, 11]\n",
      "15: [21, 48]\n",
      "16: []\n",
      "17: [40, 28, 1]\n",
      "18: []\n",
      "19: [41, 21]\n",
      "20: [42]\n",
      "21: [15, 19, 22]\n",
      "22: [30, 21]\n",
      "23: [38]\n",
      "24: [29]\n",
      "25: []\n",
      "26: [36, 46]\n",
      "27: []\n",
      "28: [17, 33]\n",
      "29: [9, 13, 24, 8, 46]\n",
      "30: [0, 32, 49, 22]\n",
      "31: [44, 46, 0]\n",
      "32: [30]\n",
      "33: [36, 42, 28, 40]\n",
      "34: []\n",
      "35: []\n",
      "36: [33, 37, 26]\n",
      "37: [7, 36]\n",
      "38: [23, 49]\n",
      "39: [3, 46]\n",
      "40: [17, 33]\n",
      "41: [19, 8]\n",
      "42: [33, 20, 44]\n",
      "43: [45]\n",
      "44: [31, 1, 42]\n",
      "45: [0, 43, 13]\n",
      "46: [31, 29, 8, 6, 26, 39]\n",
      "47: []\n",
      "48: [3, 15]\n",
      "49: [30, 38]\n",
      "\n"
     ]
    },
    {
     "data": {
      "image/png": "[encoded data removed]",
      "text/plain": [
       "<Figure size 432x288 with 1 Axes>"
      ]
     },
     "metadata": {},
     "output_type": "display_data"
    }
   ],
   "source": [
    "N_NODES = 50\n",
    "N_EDGES = N_NODES\n",
    "\n",
    "g = Graph()\n",
    "for i in range(N_NODES):\n",
    "    g.add_node(i)\n",
    "edges = []\n",
    "while len(edges) < N_EDGES:\n",
    "    n1 = np.random.randint(low = 0, high = N_NODES)\n",
    "    n2 = np.random.randint(low = 0, high = N_NODES)\n",
    "    if n2 < n1:\n",
    "        n1,n2 = n2,n1\n",
    "    \n",
    "    if (n1,n2) not in edges and n1 != n2:\n",
    "        g.add_edge(n1,n2)\n",
    "        edges.append((n1,n2))\n",
    "    \n",
    "print(g)\n",
    "g.plot()"
   ]
  },
  {
   "cell_type": "code",
   "execution_count": 5,
   "metadata": {},
   "outputs": [
    {
     "name": "stdout",
     "output_type": "stream",
     "text": [
      "[3, 4, 2, 3, 1, 2, 2, 2, 4, 1, 0, 2, 1, 2, 2, 2, 0, 3, 0, 2, 1, 3, 2, 1, 1, 0, 2, 0, 2, 5, 4, 3, 1, 4, 0, 0, 3, 2, 2, 2, 2, 2, 3, 1, 3, 3, 6, 0, 2, 2]\n",
      "[ 8.  8. 19.  9.  4.  1.  1.]\n"
     ]
    },
    {
     "data": {
      "text/plain": [
       "Text(0, 0.5, 'frequency')"
      ]
     },
     "execution_count": 5,
     "metadata": {},
     "output_type": "execute_result"
    },
    {
     "data": {
      "image/png": "[encoded data removed]",
      "text/plain": [
       "<Figure size 432x288 with 1 Axes>"
      ]
     },
     "metadata": {
      "needs_background": "light"
     },
     "output_type": "display_data"
    }
   ],
   "source": [
    "degrees = []\n",
    "for node,links in g.gdict.items():\n",
    "    degrees.append(len(links))\n",
    "    \n",
    "print(degrees)\n",
    "hist = np.zeros(max(degrees) + 1)\n",
    "for degree in degrees:\n",
    "    hist[degree] += 1\n",
    "print(hist)\n",
    "\n",
    "plt.plot(hist, \".-\");\n",
    "plt.xlabel(\"degrees\")\n",
    "plt.ylabel(\"frequency\")"
   ]
  },
  {
   "cell_type": "markdown",
   "metadata": {},
   "source": [
    "different way to create random network:\n",
    "add nodes one by one\n",
    "as you add it, choose a node to connect to randomly\n",
    "once the network is ready, compare its degrees distribution to that of the \"truly random\" network"
   ]
  },
  {
   "cell_type": "markdown",
   "metadata": {},
   "source": [
    "# homework\n",
    "make extra nodes and add to the network (via random selection)\n",
    "add them to the graph"
   ]
  },
  {
   "cell_type": "code",
   "execution_count": 15,
   "metadata": {},
   "outputs": [
    {
     "name": "stdout",
     "output_type": "stream",
     "text": [
      "[50, 50, 50, 50, 50, 50, 50, 50, 50, 50, 50, 50, 50, 50, 50, 50, 50, 50, 50, 50, 50, 50, 50, 50, 50, 50, 50, 50, 50, 50, 50, 50, 50, 50, 50, 50, 50, 50, 50, 50, 50, 50, 50, 50, 50, 50, 50, 50, 50, 50, 51]\n",
      "[ 0.  0.  0.  0.  0.  0.  0.  0.  0.  0.  0.  0.  0.  0.  0.  0.  0.  0.\n",
      "  0.  0.  0.  0.  0.  0.  0.  0.  0.  0.  0.  0.  0.  0.  0.  0.  0.  0.\n",
      "  0.  0.  0.  0.  0.  0.  0.  0.  0.  0.  0.  0.  0.  0. 50.  1.]\n"
     ]
    },
    {
     "data": {
      "text/plain": [
       "Text(0, 0.5, 'frequency')"
      ]
     },
     "execution_count": 15,
     "metadata": {},
     "output_type": "execute_result"
    },
    {
     "data": {
      "image/png": "[encoded data removed]",
      "text/plain": [
       "<Figure size 432x288 with 1 Axes>"
      ]
     },
     "metadata": {
      "needs_background": "light"
     },
     "output_type": "display_data"
    }
   ],
   "source": [
    "N_NODES = 10\n",
    "N_EDGES = N_NODES\n",
    "N_STEPS = 10\n",
    "\n",
    "g = Graph()\n",
    "\n",
    "for s in range(N_STEPS):\n",
    "    for i in range(0, N_NODES):\n",
    "        g.add_node(i)\n",
    "        for j in range(0,N_EDGES):\n",
    "            n1 = np.random.randint(low = 0, high = N_NODES)\n",
    "            n2 = np.random.randint(low = 0, high = N_NODES)\n",
    "            \n",
    "        if (n1, n2) in edges:\n",
    "            pass\n",
    "        else:\n",
    "            g.add_edge(n1,n2)\n",
    "            edges.append((n1,n2))\n",
    "                \n",
    "#i think histogram stays the same? here she is\n",
    "degrees = []\n",
    "for node,links in g.gdict.items():\n",
    "    degrees.append(len(links))\n",
    "    \n",
    "print(degrees)\n",
    "hist = np.zeros(max(degrees) + 1)\n",
    "for degree in degrees:\n",
    "    hist[degree] += 1\n",
    "print(hist)\n",
    "\n",
    "plt.plot(hist, \".-\");\n",
    "plt.xlabel(\"degrees\")\n",
    "plt.ylabel(\"frequency\")"
   ]
  },
  {
   "cell_type": "markdown",
   "metadata": {},
   "source": [
    "Not sure what happened here! I think I'm able to add extra nodes–the issue comes with forming an edge between new nodes and existing ones. Each node is only forming an edge with the new node and that is not okay!  "
   ]
  }
 ],
 "metadata": {
  "kernelspec": {
   "display_name": "Python 3",
   "language": "python",
   "name": "python3"
  },
  "language_info": {
   "codemirror_mode": {
    "name": "ipython",
    "version": 3
   },
   "file_extension": ".py",
   "mimetype": "text/x-python",
   "name": "python",
   "nbconvert_exporter": "python",
   "pygments_lexer": "ipython3",
   "version": "3.7.3"
  }
 },
 "nbformat": 4,
 "nbformat_minor": 2
}
